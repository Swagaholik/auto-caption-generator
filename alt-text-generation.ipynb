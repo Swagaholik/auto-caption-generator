{
 "cells": [
  {
   "cell_type": "code",
   "execution_count": 1,
   "metadata": {
    "colab": {
     "base_uri": "https://localhost:8080/"
    },
    "executionInfo": {
     "elapsed": 23768,
     "status": "ok",
     "timestamp": 1670365799365,
     "user": {
      "displayName": "Wen Qiu",
      "userId": "15255648562933782454"
     },
     "user_tz": 480
    },
    "id": "ZQdwXSB8eown",
    "outputId": "f3e12cad-f8b9-437d-dbec-9a9a12d49d70"
   },
   "outputs": [],
   "source": [
    "from io import StringIO \n",
    "import sys\n",
    "import os.path\n",
    "from os import path\n",
    "# this is just to help you saev the flicker dataset in your google drive so\n",
    "# it is in permanent memory and you don't have to redownload it every time you run\n",
    "# flicker 8k dataset should be in a folder called \"alt-text-generation\""
   ]
  },
  {
   "cell_type": "code",
   "execution_count": 9,
   "metadata": {
    "colab": {
     "base_uri": "https://localhost:8080/",
     "height": 103,
     "referenced_widgets": [
      "43f35760046b41cc92f7eb54becb8064",
      "3825100931f34eea92a47535ae5b272d",
      "2babbf231ffc487a87ba3845ae68cc77",
      "f5e3d81c4b9c4633a2eda2f41eb1f8b1",
      "c7242aad0eac4c6c8ac2e666e5c027a2",
      "613860f74f1a4ef486e4fbfad3e892fc",
      "1f465d564222427fa6228b0271d6c550",
      "e07a7085a0c54ae7b4c423ff96da2020",
      "6a2b0dbc64674a8591ee468810d5311a",
      "0930767aadd94ad9844fe7d3495f39ca",
      "1d2f8c4c0ebd475dabf61901f4372040"
     ]
    },
    "executionInfo": {
     "elapsed": 406,
     "status": "ok",
     "timestamp": 1670365799768,
     "user": {
      "displayName": "Wen Qiu",
      "userId": "15255648562933782454"
     },
     "user_tz": 480
    },
    "id": "ZH_YjsF9f6Ka",
    "outputId": "b7d9e930-21cc-4999-8877-146a941f3be3"
   },
   "outputs": [
    {
     "data": {
      "application/vnd.jupyter.widget-view+json": {
       "model_id": "d8fb435c09a04609b9bf0c11dadbdde4",
       "version_major": 2,
       "version_minor": 0
      },
      "text/plain": [
       "0it [00:00, ?it/s]"
      ]
     },
     "metadata": {},
     "output_type": "display_data"
    }
   ],
   "source": [
    "import string\n",
    "import numpy as np\n",
    "from PIL import Image\n",
    "import os\n",
    "from pickle import dump, load\n",
    "import numpy as np\n",
    "\n",
    "from keras.applications.xception import Xception, preprocess_input\n",
    "from tensorflow.keras.utils import load_img, img_to_array\n",
    "from keras.preprocessing.text import Tokenizer\n",
    "from keras.utils import pad_sequences\n",
    "from keras.utils import to_categorical\n",
    "from tensorflow.keras.layers import concatenate\n",
    "from keras.models import Model, load_model\n",
    "from keras.layers import Input, Dense, LSTM, Embedding, Dropout\n",
    "\n",
    "# small library for seeing the progress of loops.\n",
    "from tqdm.notebook import tqdm\n",
    "tqdm().pandas()"
   ]
  },
  {
   "cell_type": "code",
   "execution_count": 10,
   "metadata": {
    "executionInfo": {
     "elapsed": 8,
     "status": "ok",
     "timestamp": 1670365799769,
     "user": {
      "displayName": "Wen Qiu",
      "userId": "15255648562933782454"
     },
     "user_tz": 480
    },
    "id": "OlrP8iNbf-jY"
   },
   "outputs": [],
   "source": [
    "# Loading a text file into memory\n",
    "def load_doc(filename):\n",
    "    # Opening the file as read only\n",
    "    file = open(filename, 'r')\n",
    "    text = file.read()\n",
    "    file.close()\n",
    "    return text"
   ]
  },
  {
   "cell_type": "code",
   "execution_count": 11,
   "metadata": {
    "executionInfo": {
     "elapsed": 7,
     "status": "ok",
     "timestamp": 1670365799769,
     "user": {
      "displayName": "Wen Qiu",
      "userId": "15255648562933782454"
     },
     "user_tz": 480
    },
    "id": "KojjlkIlgK7D"
   },
   "outputs": [],
   "source": [
    "# get all imgs with their captions\n",
    "def all_img_captions(filename):\n",
    "    file = load_doc(filename)\n",
    "    captions = file.split('\\n')\n",
    "    descriptions ={}\n",
    "    for caption in captions[:-1]:\n",
    "        img, caption = caption.split('\\t')\n",
    "        if img[:-2] not in descriptions:\n",
    "            descriptions[img[:-2]] = [caption]\n",
    "        else:\n",
    "            descriptions[img[:-2]].append(caption)\n",
    "    return descriptions"
   ]
  },
  {
   "cell_type": "code",
   "execution_count": 97,
   "metadata": {
    "executionInfo": {
     "elapsed": 8,
     "status": "ok",
     "timestamp": 1670365799770,
     "user": {
      "displayName": "Wen Qiu",
      "userId": "15255648562933782454"
     },
     "user_tz": 480
    },
    "id": "m6P9T6OlgMdS"
   },
   "outputs": [],
   "source": [
    "##Data cleaning- lower casing, removing puntuations and words containing numbers\n",
    "def cleaning_text(captions):\n",
    "    # table = str.maketrans('','',string.punctuation)\n",
    "    for img,caps in captions.items():\n",
    "        for i,img_caption in enumerate(caps):\n",
    "            \n",
    "            img_caption.replace(\"-\",\" \")\n",
    "            desc = img_caption.split()\n",
    "\n",
    "            #converts to lower case\n",
    "            desc = [word.lower() for word in desc]\n",
    "            #remove punctuation from each token\n",
    "            # desc = [word.translate(table) for word in desc]\n",
    "            #remove hanging 's and a \n",
    "            desc = [word for word in desc if(len(word)>1)]\n",
    "            #remove tokens with numbers in them\n",
    "            desc = [word for word in desc if(word.isalpha())]\n",
    "            #convert back to string\n",
    "            img_caption = ' '.join(desc)\n",
    "            captions[img][i]= img_caption\n",
    "    return captions"
   ]
  },
  {
   "cell_type": "code",
   "execution_count": 13,
   "metadata": {
    "executionInfo": {
     "elapsed": 9,
     "status": "ok",
     "timestamp": 1670365799771,
     "user": {
      "displayName": "Wen Qiu",
      "userId": "15255648562933782454"
     },
     "user_tz": 480
    },
    "id": "re2fGTAkgN_r"
   },
   "outputs": [],
   "source": [
    "def text_vocabulary(descriptions):\n",
    "    # build vocabulary of all unique words\n",
    "    vocab = set()\n",
    "    \n",
    "    for key in descriptions.keys():\n",
    "        [vocab.update(d.split()) for d in descriptions[key]]\n",
    "    \n",
    "    return vocab"
   ]
  },
  {
   "cell_type": "code",
   "execution_count": 14,
   "metadata": {
    "executionInfo": {
     "elapsed": 10,
     "status": "ok",
     "timestamp": 1670365799772,
     "user": {
      "displayName": "Wen Qiu",
      "userId": "15255648562933782454"
     },
     "user_tz": 480
    },
    "id": "iwGkcV5GgPcR"
   },
   "outputs": [],
   "source": [
    "#All descriptions in one file \n",
    "def save_descriptions(descriptions, filename):\n",
    "    lines = list()\n",
    "    for key, desc_list in descriptions.items():\n",
    "        for desc in desc_list:\n",
    "            lines.append(key + '\\t' + desc )\n",
    "    data = \"\\n\".join(lines)\n",
    "    file = open(filename,\"w\")\n",
    "    file.write(data)\n",
    "    file.close()"
   ]
  },
  {
   "cell_type": "code",
   "execution_count": 100,
   "metadata": {
    "executionInfo": {
     "elapsed": 261,
     "status": "ok",
     "timestamp": 1670365800024,
     "user": {
      "displayName": "Wen Qiu",
      "userId": "15255648562933782454"
     },
     "user_tz": 480
    },
    "id": "SXCkWr2BgTUC"
   },
   "outputs": [],
   "source": [
    "dataset_text = \"Flickr8k_text\"\n",
    "dataset_images = \"Flicker8k_Dataset\""
   ]
  },
  {
   "cell_type": "code",
   "execution_count": 101,
   "metadata": {
    "colab": {
     "base_uri": "https://localhost:8080/",
     "height": 53
    },
    "executionInfo": {
     "elapsed": 2916,
     "status": "ok",
     "timestamp": 1670365802938,
     "user": {
      "displayName": "Wen Qiu",
      "userId": "15255648562933782454"
     },
     "user_tz": 480
    },
    "id": "kEaXE36Hzfjo",
    "outputId": "d99f9d5a-afdf-4480-e5c6-7ecdda9bad52"
   },
   "outputs": [
    {
     "name": "stdout",
     "output_type": "stream",
     "text": [
      "Length of descriptions = 8092\n",
      "Length of vocabulary =  8357\n"
     ]
    }
   ],
   "source": [
    "#we prepare our text data\n",
    "filename = dataset_text + \"/\" + \"Flickr8k.token.txt\"\n",
    "#loading the file that contains all data\n",
    "#mapping them into descriptions dictionary img to 5 captions\n",
    "descriptions = all_img_captions(filename)\n",
    "print(\"Length of descriptions =\" ,len(descriptions))\n",
    "\n",
    "#cleaning the descriptions\n",
    "clean_descriptions = cleaning_text(descriptions)\n",
    "\n",
    "#building vocabulary \n",
    "vocabulary = text_vocabulary(clean_descriptions)\n",
    "print(\"Length of vocabulary = \", len(vocabulary))\n",
    "\n",
    "#saving each description to file \n",
    "save_descriptions(clean_descriptions, \"descriptions.txt\")"
   ]
  },
  {
   "cell_type": "code",
   "execution_count": 102,
   "metadata": {
    "executionInfo": {
     "elapsed": 3,
     "status": "ok",
     "timestamp": 1670365804139,
     "user": {
      "displayName": "Wen Qiu",
      "userId": "15255648562933782454"
     },
     "user_tz": 480
    },
    "id": "cch4TMekzqSR"
   },
   "outputs": [],
   "source": [
    "def extract_features(directory):\n",
    "    model = Xception( include_top=False, pooling='avg' )\n",
    "    features = {}\n",
    "    for img in tqdm(os.listdir(directory)):\n",
    "        filename = directory + \"/\" + img\n",
    "        image = Image.open(filename)\n",
    "        image = image.resize((299,299))\n",
    "        image = np.expand_dims(image, axis=0)\n",
    "        #image = preprocess_input(image)\n",
    "        image = image/127.5\n",
    "        image = image - 1.0\n",
    "\n",
    "        feature = model.predict(image)\n",
    "        features[img] = feature\n",
    "    return features"
   ]
  },
  {
   "cell_type": "code",
   "execution_count": null,
   "metadata": {
    "colab": {
     "base_uri": "https://localhost:8080/",
     "height": 1000,
     "referenced_widgets": [
      "8df555d6eb744fb2821253a9c7629282",
      "62493709351d40668fcc344f53e6f8db",
      "10143c597ad64366a817c7f6b2648122",
      "63ee16021f62418aa94b1afd83715d37",
      "55be3250d4264dbea1e6b71ff207ac0f",
      "a7ecf62a6d1d4deeae45e8214248940c",
      "4e6df7f7d1fa484cba0f2a93aa9ff629",
      "528497ce8049494385b60db2e726b746",
      "0610d6c5ffd84ecf9ca255de63346efd",
      "48c4cd6c47f64e37b9ada031ff0d364f",
      "d5653b192dd34554bcb60949dbae4280"
     ]
    },
    "executionInfo": {
     "elapsed": 4285687,
     "status": "ok",
     "timestamp": 1670307135271,
     "user": {
      "displayName": "Sonia Fereidooni",
      "userId": "13756163482645016892"
     },
     "user_tz": 480
    },
    "id": "fuPS-aADztO7",
    "outputId": "215de5f6-ae65-4c77-f26d-1e27a6e7dd82"
   },
   "outputs": [],
   "source": [
    "#2048 feature vector\n",
    "features = extract_features(dataset_images)\n",
    "dump(features, open(\"features.p\",\"wb\"))"
   ]
  },
  {
   "cell_type": "code",
   "execution_count": 18,
   "metadata": {
    "executionInfo": {
     "elapsed": 2144,
     "status": "ok",
     "timestamp": 1670365818304,
     "user": {
      "displayName": "Wen Qiu",
      "userId": "15255648562933782454"
     },
     "user_tz": 480
    },
    "id": "IHkIWYIAzvb6"
   },
   "outputs": [],
   "source": [
    "features = load(open(\"features.p\",\"rb\"))"
   ]
  },
  {
   "cell_type": "code",
   "execution_count": 122,
   "metadata": {
    "executionInfo": {
     "elapsed": 278,
     "status": "ok",
     "timestamp": 1670365820510,
     "user": {
      "displayName": "Wen Qiu",
      "userId": "15255648562933782454"
     },
     "user_tz": 480
    },
    "id": "jMr2fG1Lz1KB"
   },
   "outputs": [],
   "source": [
    "#load the data \n",
    "def load_photos(filename):\n",
    "    file = load_doc(filename)\n",
    "    photos = file.split(\"\\n\")[:-1]\n",
    "    return photos\n",
    "\n",
    "\n",
    "def load_clean_descriptions(filename, photos):   \n",
    "    #loading clean_descriptions\n",
    "    file = load_doc(filename)\n",
    "    descriptions = {}\n",
    "    for line in file.split(\"\\n\"):\n",
    "        \n",
    "        words = line.split()\n",
    "        if len(words)<1 :\n",
    "            continue\n",
    "    \n",
    "        image, image_caption = words[0], words[1:]\n",
    "        \n",
    "        if image in photos:\n",
    "            if image not in descriptions:\n",
    "                descriptions[image] = []\n",
    "            desc = 'startseq ' + \" \".join(image_caption) + ' endseq'\n",
    "            descriptions[image].append(desc)\n",
    "\n",
    "    return descriptions\n",
    "\n",
    "\n",
    "def load_features(photos, feature_file=\"features.p\"):\n",
    "    #loading all features\n",
    "    all_features = load(open(feature_file,\"rb\"))\n",
    "    #selecting only needed features\n",
    "    features = {k:all_features[k] for k in photos}\n",
    "    return features\n"
   ]
  },
  {
   "cell_type": "code",
   "execution_count": 106,
   "metadata": {
    "executionInfo": {
     "elapsed": 3606,
     "status": "ok",
     "timestamp": 1670365824886,
     "user": {
      "displayName": "Wen Qiu",
      "userId": "15255648562933782454"
     },
     "user_tz": 480
    },
    "id": "YN-_UPVXJZXg"
   },
   "outputs": [],
   "source": [
    "filename = dataset_text + \"/\" + \"Flickr_8k.trainImages.txt\"\n",
    "\n",
    "#train = loading_data(filename)\n",
    "train_imgs = load_photos(filename)\n",
    "train_descriptions = load_clean_descriptions(\"descriptions.txt\", train_imgs)\n",
    "train_features = load_features(train_imgs)"
   ]
  },
  {
   "cell_type": "code",
   "execution_count": 107,
   "metadata": {
    "executionInfo": {
     "elapsed": 5,
     "status": "ok",
     "timestamp": 1670365824887,
     "user": {
      "displayName": "Wen Qiu",
      "userId": "15255648562933782454"
     },
     "user_tz": 480
    },
    "id": "zP-T24vqJd9i"
   },
   "outputs": [],
   "source": [
    "#converting dictionary to clean list of descriptions\n",
    "def dict_to_list(descriptions):\n",
    "    all_desc = []\n",
    "    for key in descriptions.keys():\n",
    "        [all_desc.append(d) for d in descriptions[key]]\n",
    "    return all_desc\n",
    "\n",
    "#creating tokenizer class \n",
    "#this will vectorise text corpus\n",
    "#each integer will represent token in dictionary \n",
    "\n",
    "from keras.preprocessing.text import Tokenizer\n",
    "\n",
    "def create_tokenizer(descriptions):\n",
    "    desc_list = dict_to_list(descriptions)\n",
    "    tokenizer = Tokenizer()\n",
    "    tokenizer.fit_on_texts(desc_list)\n",
    "    return tokenizer\n"
   ]
  },
  {
   "cell_type": "code",
   "execution_count": 108,
   "metadata": {
    "colab": {
     "base_uri": "https://localhost:8080/"
    },
    "executionInfo": {
     "elapsed": 1382,
     "status": "ok",
     "timestamp": 1670365826892,
     "user": {
      "displayName": "Wen Qiu",
      "userId": "15255648562933782454"
     },
     "user_tz": 480
    },
    "id": "zy4MRz1EJfv2",
    "outputId": "4bab86d1-5333-403a-d961-0a9730c3f6ae"
   },
   "outputs": [
    {
     "data": {
      "text/plain": [
       "7266"
      ]
     },
     "execution_count": 108,
     "metadata": {},
     "output_type": "execute_result"
    }
   ],
   "source": [
    "# give each word a index, and store that into tokenizer.p pickle file\n",
    "tokenizer = create_tokenizer(train_descriptions)\n",
    "dump(tokenizer, open('tokenizer.p', 'wb'))\n",
    "vocab_size = len(tokenizer.word_index) + 1\n",
    "vocab_size "
   ]
  },
  {
   "cell_type": "code",
   "execution_count": 109,
   "metadata": {
    "colab": {
     "base_uri": "https://localhost:8080/"
    },
    "executionInfo": {
     "elapsed": 255,
     "status": "ok",
     "timestamp": 1670365827420,
     "user": {
      "displayName": "Wen Qiu",
      "userId": "15255648562933782454"
     },
     "user_tz": 480
    },
    "id": "uw-aQFSOJifx",
    "outputId": "674e6f34-feb3-4a4d-eebb-ae3b8acdf90d"
   },
   "outputs": [
    {
     "data": {
      "text/plain": [
       "31"
      ]
     },
     "execution_count": 109,
     "metadata": {},
     "output_type": "execute_result"
    }
   ],
   "source": [
    "#calculate maximum length of descriptions\n",
    "def max_length(descriptions):\n",
    "    desc_list = dict_to_list(descriptions)\n",
    "    return max(len(d.split()) for d in desc_list)\n",
    "\n",
    "max_length = max_length(descriptions)\n",
    "max_length"
   ]
  },
  {
   "cell_type": "code",
   "execution_count": 110,
   "metadata": {
    "colab": {
     "base_uri": "https://localhost:8080/"
    },
    "executionInfo": {
     "elapsed": 269,
     "status": "ok",
     "timestamp": 1670365830685,
     "user": {
      "displayName": "Wen Qiu",
      "userId": "15255648562933782454"
     },
     "user_tz": 480
    },
    "id": "Uzd7lfygJsQj",
    "outputId": "f858b52c-4c45-46eb-f256-cb4fac05b6e3"
   },
   "outputs": [
    {
     "data": {
      "text/plain": [
       "array([0.47339708, 0.01732647, 0.07333975, ..., 0.08559047, 0.02102302,\n",
       "       0.23766533], dtype=float32)"
      ]
     },
     "execution_count": 110,
     "metadata": {},
     "output_type": "execute_result"
    }
   ],
   "source": [
    "features['1000268201_693b08cb0e.jpg'][0]"
   ]
  },
  {
   "cell_type": "code",
   "execution_count": 25,
   "metadata": {
    "executionInfo": {
     "elapsed": 6,
     "status": "ok",
     "timestamp": 1670365833444,
     "user": {
      "displayName": "Wen Qiu",
      "userId": "15255648562933782454"
     },
     "user_tz": 480
    },
    "id": "4pWBF5mkJuLb"
   },
   "outputs": [],
   "source": [
    "#create input-output sequence pairs from the image description.\n",
    "\n",
    "#data generator, used by model.fit_generator()\n",
    "def data_generator(descriptions, features, tokenizer, max_length):\n",
    "    while 1:\n",
    "        for key, description_list in descriptions.items():\n",
    "            #retrieve photo features\n",
    "            feature = features[key][0]\n",
    "            input_image, input_sequence, output_word = create_sequences(tokenizer, max_length, description_list, feature)\n",
    "            yield [[input_image, input_sequence], output_word]         \n",
    "\n",
    "def create_sequences(tokenizer, max_length, desc_list, feature):\n",
    "    X1, X2, y = list(), list(), list()\n",
    "    # walk through each description for the image\n",
    "    for desc in desc_list:\n",
    "        # encode the sequence\n",
    "        seq = tokenizer.texts_to_sequences([desc])[0]\n",
    "        # split one sequence into multiple X,y pairs\n",
    "        for i in range(1, len(seq)):\n",
    "            # split into input and output pair\n",
    "            in_seq, out_seq = seq[:i], seq[i]\n",
    "            # pad input sequence\n",
    "            in_seq = pad_sequences([in_seq], maxlen=max_length)[0]\n",
    "            # encode output sequence\n",
    "            out_seq = to_categorical([out_seq], num_classes=vocab_size)[0]\n",
    "            # store\n",
    "            X1.append(feature)\n",
    "            X2.append(in_seq)\n",
    "            y.append(out_seq)\n",
    "    return np.array(X1), np.array(X2), np.array(y)"
   ]
  },
  {
   "cell_type": "code",
   "execution_count": 26,
   "metadata": {
    "colab": {
     "base_uri": "https://localhost:8080/"
    },
    "executionInfo": {
     "elapsed": 3,
     "status": "ok",
     "timestamp": 1670365838498,
     "user": {
      "displayName": "Wen Qiu",
      "userId": "15255648562933782454"
     },
     "user_tz": 480
    },
    "id": "0TBb-zFBJuqd",
    "outputId": "19873805-4573-46fe-9425-3bace9c2ef43"
   },
   "outputs": [
    {
     "data": {
      "text/plain": [
       "((47, 2048), (47, 32), (47, 7577))"
      ]
     },
     "execution_count": 26,
     "metadata": {},
     "output_type": "execute_result"
    }
   ],
   "source": [
    "[a,b],c = next(data_generator(train_descriptions, features, tokenizer, max_length))\n",
    "a.shape, b.shape, c.shape"
   ]
  },
  {
   "cell_type": "code",
   "execution_count": 44,
   "metadata": {
    "executionInfo": {
     "elapsed": 2,
     "status": "ok",
     "timestamp": 1670365840417,
     "user": {
      "displayName": "Wen Qiu",
      "userId": "15255648562933782454"
     },
     "user_tz": 480
    },
    "id": "S1E8SAJsJu8R"
   },
   "outputs": [],
   "source": [
    "from keras.utils import plot_model\n",
    "\n",
    "# define the captioning model\n",
    "def define_model(vocab_size, max_length):\n",
    "    \n",
    "    # features from the CNN model squeezed from 2048 to 256 nodes\n",
    "    inputs1 = Input(shape=(2048,))\n",
    "    fe1 = Dropout(0.5)(inputs1)\n",
    "    fe2 = Dense(512 , activation='relu')(fe1)\n",
    "    fe3 = Dense(256 , activation = 'relu')(fe2)\n",
    "\n",
    "    # LSTM sequence model\n",
    "    inputs2 = Input(shape=(max_length,))\n",
    "    se1 = Embedding(vocab_size, 512, mask_zero=True)(inputs2)\n",
    "    se2 = Dropout(0.5)(se1)\n",
    "    se3 = LSTM(512, return_sequences=True)(se2)\n",
    "    se4 = Dropout(0.5)(se3)\n",
    "    se5 = LSTM(256)(se4)\n",
    "\n",
    "    # Merging both models\n",
    "    decoder1 = concatenate([fe3, se5])\n",
    "    decoder2 = Dense(256, activation='relu')(decoder1)\n",
    "    decoder3 = Dense(512, activation='relu')(decoder1)\n",
    "    outputs = Dense(vocab_size, activation='softmax')(decoder3)\n",
    "    \n",
    "    # tie it together [image, seq] [word]\n",
    "    model = Model(inputs=[inputs1, inputs2], outputs=outputs)\n",
    "    model.compile(loss='categorical_crossentropy', optimizer='adam')\n",
    "    \n",
    "    # summarize model\n",
    "    print(model.summary())\n",
    "    plot_model(model, to_file='model.png', show_shapes=True)\n",
    "    \n",
    "    return model"
   ]
  },
  {
   "cell_type": "code",
   "execution_count": 45,
   "metadata": {
    "colab": {
     "base_uri": "https://localhost:8080/"
    },
    "id": "rYSNBfHbJvL7",
    "outputId": "06a23c25-7b07-4752-bf7d-350549fe9e0a"
   },
   "outputs": [
    {
     "name": "stdout",
     "output_type": "stream",
     "text": [
      "Dataset:  6000\n",
      "Descriptions: train= 6000\n",
      "Photos: train= 6000\n",
      "Vocabulary Size: 7577\n",
      "Description Length:  32\n",
      "Model: \"model_1\"\n",
      "__________________________________________________________________________________________________\n",
      " Layer (type)                   Output Shape         Param #     Connected to                     \n",
      "==================================================================================================\n",
      " input_10 (InputLayer)          [(None, 32)]         0           []                               \n",
      "                                                                                                  \n",
      " embedding_4 (Embedding)        (None, 32, 512)      3879424     ['input_10[0][0]']               \n",
      "                                                                                                  \n",
      " input_9 (InputLayer)           [(None, 2048)]       0           []                               \n",
      "                                                                                                  \n",
      " dropout_12 (Dropout)           (None, 32, 512)      0           ['embedding_4[0][0]']            \n",
      "                                                                                                  \n",
      " dropout_11 (Dropout)           (None, 2048)         0           ['input_9[0][0]']                \n",
      "                                                                                                  \n",
      " lstm_7 (LSTM)                  (None, 32, 512)      2099200     ['dropout_12[0][0]']             \n",
      "                                                                                                  \n",
      " dense_11 (Dense)               (None, 512)          1049088     ['dropout_11[0][0]']             \n",
      "                                                                                                  \n",
      " dropout_13 (Dropout)           (None, 32, 512)      0           ['lstm_7[0][0]']                 \n",
      "                                                                                                  \n",
      " dense_12 (Dense)               (None, 256)          131328      ['dense_11[0][0]']               \n",
      "                                                                                                  \n",
      " lstm_8 (LSTM)                  (None, 256)          787456      ['dropout_13[0][0]']             \n",
      "                                                                                                  \n",
      " concatenate_4 (Concatenate)    (None, 512)          0           ['dense_12[0][0]',               \n",
      "                                                                  'lstm_8[0][0]']                 \n",
      "                                                                                                  \n",
      " dense_14 (Dense)               (None, 512)          262656      ['concatenate_4[0][0]']          \n",
      "                                                                                                  \n",
      " dense_15 (Dense)               (None, 7577)         3887001     ['dense_14[0][0]']               \n",
      "                                                                                                  \n",
      "==================================================================================================\n",
      "Total params: 12,096,153\n",
      "Trainable params: 12,096,153\n",
      "Non-trainable params: 0\n",
      "__________________________________________________________________________________________________\n",
      "None\n",
      "You must install pydot (`pip install pydot`) and install graphviz (see instructions at https://graphviz.gitlab.io/download/) for plot_model/model_to_dot to work.\n"
     ]
    },
    {
     "name": "stderr",
     "output_type": "stream",
     "text": [
      "/var/folders/b4/kmgwdkbj4nn7rv403zgbf13c0000gn/T/ipykernel_54800/1686809828.py:17: UserWarning: `Model.fit_generator` is deprecated and will be removed in a future version. Please use `Model.fit`, which supports generators.\n",
      "  model.fit_generator(generator, epochs=1, steps_per_epoch= steps, verbose=1)\n"
     ]
    },
    {
     "name": "stdout",
     "output_type": "stream",
     "text": [
      "6000/6000 [==============================] - 2087s 347ms/step - loss: 4.5144\n",
      "6000/6000 [==============================] - 2073s 345ms/step - loss: 3.6967\n",
      "6000/6000 [==============================] - 2074s 346ms/step - loss: 3.4094\n",
      "6000/6000 [==============================] - 2072s 345ms/step - loss: 3.2382\n",
      "6000/6000 [==============================] - 2073s 346ms/step - loss: 3.1131\n",
      "6000/6000 [==============================] - 2077s 346ms/step - loss: 3.0233\n",
      "6000/6000 [==============================] - 2076s 346ms/step - loss: 2.9502\n",
      "6000/6000 [==============================] - 2077s 346ms/step - loss: 2.8885\n",
      "6000/6000 [==============================] - 2077s 346ms/step - loss: 2.8398\n",
      "6000/6000 [==============================] - 2079s 346ms/step - loss: 2.7997\n"
     ]
    }
   ],
   "source": [
    "# train our model\n",
    "print('Dataset: ', len(train_imgs))\n",
    "print('Descriptions: train=', len(train_descriptions))\n",
    "print('Photos: train=', len(train_features))\n",
    "print('Vocabulary Size:', vocab_size)\n",
    "print('Description Length: ', max_length)\n",
    "\n",
    "model = define_model(vocab_size, max_length)\n",
    "epochs = 10\n",
    "steps = len(train_descriptions)\n",
    "folder = \"models3\"\n",
    "# making a directory models to save our models\n",
    "if not os.path.exists(folder):\n",
    "    os.mkdir(folder)\n",
    "for i in range(epochs):\n",
    "    generator = data_generator(train_descriptions, train_features, tokenizer, max_length)\n",
    "    model.fit_generator(generator, epochs=1, steps_per_epoch= steps, verbose=1)\n",
    "    model.save(f\"{folder}/model_\" + str(i) + \".h5\")"
   ]
  },
  {
   "cell_type": "code",
   "execution_count": 46,
   "metadata": {
    "executionInfo": {
     "elapsed": 2179,
     "status": "ok",
     "timestamp": 1670354594824,
     "user": {
      "displayName": "Wen Qiu",
      "userId": "15255648562933782454"
     },
     "user_tz": 480
    },
    "id": "2MZ2FQtVuh_p"
   },
   "outputs": [],
   "source": [
    "model = load_model('./models3/model_9.h5')"
   ]
  },
  {
   "cell_type": "code",
   "execution_count": 47,
   "metadata": {
    "executionInfo": {
     "elapsed": 1869,
     "status": "ok",
     "timestamp": 1670354597372,
     "user": {
      "displayName": "Wen Qiu",
      "userId": "15255648562933782454"
     },
     "user_tz": 480
    },
    "id": "HY3mWQ9Jv_t6"
   },
   "outputs": [],
   "source": [
    "filename = dataset_text + \"/\" + \"Flickr_8k.testImages.txt\"\n",
    "\n",
    "#train = loading_data(filename)\n",
    "test_imgs = load_photos(filename)\n",
    "test_descriptions = load_clean_descriptions(\"descriptions.txt\", test_imgs)\n",
    "test_features = load_features(test_imgs)"
   ]
  },
  {
   "cell_type": "code",
   "execution_count": 48,
   "metadata": {
    "executionInfo": {
     "elapsed": 288,
     "status": "ok",
     "timestamp": 1670355425478,
     "user": {
      "displayName": "Wen Qiu",
      "userId": "15255648562933782454"
     },
     "user_tz": 480
    },
    "id": "j-ENcbWJ5IYW"
   },
   "outputs": [],
   "source": [
    "def word_for_id(integer , tokenizer):\n",
    "    for word,index in tokenizer.word_index.items():\n",
    "        if index == integer:\n",
    "            return word"
   ]
  },
  {
   "cell_type": "code",
   "execution_count": 33,
   "metadata": {
    "colab": {
     "base_uri": "https://localhost:8080/"
    },
    "executionInfo": {
     "elapsed": 737,
     "status": "ok",
     "timestamp": 1670355670983,
     "user": {
      "displayName": "Wen Qiu",
      "userId": "15255648562933782454"
     },
     "user_tz": 480
    },
    "id": "qBDID6Ts8fz3",
    "outputId": "36cfc11a-b9b2-4613-99f6-9b9604fe7f96"
   },
   "outputs": [
    {
     "data": {
      "text/plain": [
       "7577"
      ]
     },
     "execution_count": 33,
     "metadata": {},
     "output_type": "execute_result"
    }
   ],
   "source": [
    "tokenizer = load(open('tokenizer.p', 'rb'))\n",
    "vocab_size = len(tokenizer.word_index) + 1\n",
    "vocab_size"
   ]
  },
  {
   "cell_type": "code",
   "execution_count": 84,
   "metadata": {
    "executionInfo": {
     "elapsed": 456,
     "status": "ok",
     "timestamp": 1670358520763,
     "user": {
      "displayName": "Wen Qiu",
      "userId": "15255648562933782454"
     },
     "user_tz": 480
    },
    "id": "p01B0B2x8SAU"
   },
   "outputs": [],
   "source": [
    "def generate_desc(model, tokenizer, photo, max_length):\n",
    "    input_text = 'startseq'\n",
    "    \n",
    "    for i in range(max_length):\n",
    "        \n",
    "        sequence = tokenizer.texts_to_sequences([input_text])[0]\n",
    "        sequence = pad_sequences([sequence], maxlen=max_length)\n",
    "        \n",
    "        # predict the next word\n",
    "        next_word_id = model.predict([photo,sequence], verbose = 0)\n",
    "        \n",
    "        # get highest probality word from list of words\n",
    "        next_word_id = np.argmax(next_word_id)\n",
    "        # we can experiment with sample & beam search here\n",
    "        \n",
    "        # get word from id\n",
    "        word = word_for_id(next_word_id, tokenizer)\n",
    "        \n",
    "        if word is None:\n",
    "            break\n",
    "            \n",
    "        # update input text\n",
    "        input_text += ' '+ word\n",
    "        \n",
    "        if word == 'endseq':\n",
    "            break\n",
    "            \n",
    "    return input_text"
   ]
  },
  {
   "cell_type": "code",
   "execution_count": 35,
   "metadata": {
    "executionInfo": {
     "elapsed": 2072,
     "status": "ok",
     "timestamp": 1670355861229,
     "user": {
      "displayName": "Wen Qiu",
      "userId": "15255648562933782454"
     },
     "user_tz": 480
    },
    "id": "41W3ci_A90D8"
   },
   "outputs": [],
   "source": [
    "from nltk.translate.bleu_score import corpus_bleu"
   ]
  },
  {
   "cell_type": "code",
   "execution_count": 64,
   "metadata": {
    "executionInfo": {
     "elapsed": 613,
     "status": "ok",
     "timestamp": 1670358540147,
     "user": {
      "displayName": "Wen Qiu",
      "userId": "15255648562933782454"
     },
     "user_tz": 480
    },
    "id": "W_vOJsAs97cR"
   },
   "outputs": [],
   "source": [
    "def evaluate_model(model, desciptions, photos, tokenizer, max_length):\n",
    "    actual, predicted = list(), list()\n",
    "    \n",
    "    for key, desc_list in desciptions.items():\n",
    "        generated_desc = generate_desc(model, tokenizer, photos[key], max_length)\n",
    "        \n",
    "        references = [d.split() for d in desc_list]\n",
    "        actual.append(references)\n",
    "        predicted.append(generated_desc.split())\n",
    "    bleu_1 = corpus_bleu(actual, predicted, weights=(1,0,0,0))\n",
    "    bleu_2 = corpus_bleu(actual, predicted, weights=(0.5,0.5,0,0))\n",
    "    bleu_3 = corpus_bleu(actual, predicted, weights=(0.33,0.33,0.33,0))\n",
    "    bleu_4 = corpus_bleu(actual, predicted, weights=(0.25,0.25,0.25,0.25))\n",
    "    print(f'Bleu_Score -1 = {bleu_1}')\n",
    "    print(f'Bleu_Score -2 = {bleu_2}')\n",
    "    print(f'Bleu_Score -3 = {bleu_3}')\n",
    "    print(f'Bleu_Score -4 = {bleu_4}')\n",
    "    return bleu_1, bleu_2, bleu_3, bleu_4"
   ]
  },
  {
   "cell_type": "code",
   "execution_count": 67,
   "metadata": {
    "colab": {
     "base_uri": "https://localhost:8080/"
    },
    "executionInfo": {
     "elapsed": 2117194,
     "status": "ok",
     "timestamp": 1670360864519,
     "user": {
      "displayName": "Wen Qiu",
      "userId": "15255648562933782454"
     },
     "user_tz": 480
    },
    "id": "Opj_hxUh983n",
    "outputId": "88b0341a-db0b-43f3-a2bd-e9c89f57fd73"
   },
   "outputs": [
    {
     "name": "stdout",
     "output_type": "stream",
     "text": [
      "evaluating model_0\n",
      "Bleu_Score -1 = 0.17033333333333336\n",
      "Bleu_Score -2 = 0.08857753195176907\n",
      "Bleu_Score -3 = 0.04473800754253917\n",
      "Bleu_Score -4 = 0.019923334054341164\n",
      "evaluating model_1\n",
      "Bleu_Score -1 = 0.1694848484848485\n",
      "Bleu_Score -2 = 0.09280058654791125\n",
      "Bleu_Score -3 = 0.050559464321408044\n",
      "Bleu_Score -4 = 0.024395655018808585\n",
      "evaluating model_2\n",
      "Bleu_Score -1 = 0.16512121212121209\n",
      "Bleu_Score -2 = 0.08931639581065762\n",
      "Bleu_Score -3 = 0.049564971711707415\n",
      "Bleu_Score -4 = 0.025034692462845613\n",
      "evaluating model_3\n",
      "Bleu_Score -1 = 0.1541818181818182\n",
      "Bleu_Score -2 = 0.08461570883599677\n",
      "Bleu_Score -3 = 0.04742216645959778\n",
      "Bleu_Score -4 = 0.02361799865565174\n",
      "evaluating model_4\n",
      "Bleu_Score -1 = 0.16642424242424242\n",
      "Bleu_Score -2 = 0.09139155686750644\n",
      "Bleu_Score -3 = 0.05166896742235373\n",
      "Bleu_Score -4 = 0.02702991588414856\n",
      "evaluating model_5\n",
      "Bleu_Score -1 = 0.17187878787878788\n",
      "Bleu_Score -2 = 0.09405523038957676\n",
      "Bleu_Score -3 = 0.05247169773210867\n",
      "Bleu_Score -4 = 0.026962570763061387\n",
      "evaluating model_6\n",
      "Bleu_Score -1 = 0.16006060606060607\n",
      "Bleu_Score -2 = 0.08765220528263447\n",
      "Bleu_Score -3 = 0.049028175375550376\n",
      "Bleu_Score -4 = 0.02465144746909077\n",
      "evaluating model_7\n",
      "Bleu_Score -1 = 0.15142424242424243\n",
      "Bleu_Score -2 = 0.08328939371889202\n",
      "Bleu_Score -3 = 0.046068201455345785\n",
      "Bleu_Score -4 = 0.022212546213170453\n",
      "evaluating model_8\n",
      "Bleu_Score -1 = 0.15636363636363637\n",
      "Bleu_Score -2 = 0.08674675786448738\n",
      "Bleu_Score -3 = 0.04942267170142955\n",
      "Bleu_Score -4 = 0.025038931760331347\n",
      "evaluating model_9\n",
      "Bleu_Score -1 = 0.16754545454545458\n",
      "Bleu_Score -2 = 0.09078073609227098\n",
      "Bleu_Score -3 = 0.05103860891939167\n",
      "Bleu_Score -4 = 0.02559656153632154\n"
     ]
    }
   ],
   "source": [
    "results = {'bleu_1': [], 'bleu_2': [], 'bleu_3': [], 'bleu_4': []}\n",
    "for i in range(epochs):\n",
    "    model = load_model(f'./models2/model_{i}.h5')\n",
    "    print(f\"evaluating model_{i}\")\n",
    "    bleu_1, bleu_2, bleu_3, bleu_4 = evaluate_model(model, test_descriptions, test_features, tokenizer, max_length)\n",
    "    results['bleu_1'].append(bleu_1)\n",
    "    results['bleu_2'].append(bleu_2)\n",
    "    results['bleu_3'].append(bleu_3)\n",
    "    results['bleu_4'].append(bleu_4)\n",
    "dump(results, open(\"model2_eval.p\",\"wb\"))"
   ]
  },
  {
   "cell_type": "code",
   "execution_count": 68,
   "metadata": {},
   "outputs": [
    {
     "name": "stdout",
     "output_type": "stream",
     "text": [
      "evaluating model_0\n",
      "Bleu_Score -1 = 0.15233333333333332\n",
      "Bleu_Score -2 = 0.08125698687907806\n",
      "Bleu_Score -3 = 0.04331790444889184\n",
      "Bleu_Score -4 = 0.020156294227635742\n",
      "evaluating model_1\n",
      "Bleu_Score -1 = 0.14145454545454544\n",
      "Bleu_Score -2 = 0.0766759711086501\n",
      "Bleu_Score -3 = 0.04141081823577351\n",
      "Bleu_Score -4 = 0.019028786499208583\n",
      "evaluating model_2\n",
      "Bleu_Score -1 = 0.15227272727272728\n",
      "Bleu_Score -2 = 0.08223053444709297\n",
      "Bleu_Score -3 = 0.043866357581651125\n",
      "Bleu_Score -4 = 0.02086120616592461\n",
      "evaluating model_3\n",
      "Bleu_Score -1 = 0.16515151515151516\n",
      "Bleu_Score -2 = 0.08778012519236848\n",
      "Bleu_Score -3 = 0.04664137021399346\n",
      "Bleu_Score -4 = 0.02170432180024491\n",
      "evaluating model_4\n",
      "Bleu_Score -1 = 0.17218181818181819\n",
      "Bleu_Score -2 = 0.09067349016212964\n",
      "Bleu_Score -3 = 0.0493625712033774\n",
      "Bleu_Score -4 = 0.024023144997121843\n",
      "evaluating model_5\n",
      "Bleu_Score -1 = 0.17166666666666666\n",
      "Bleu_Score -2 = 0.09524447709272524\n",
      "Bleu_Score -3 = 0.052946327762524635\n",
      "Bleu_Score -4 = 0.0258724441158954\n",
      "evaluating model_6\n",
      "Bleu_Score -1 = 0.1619393939393939\n",
      "Bleu_Score -2 = 0.0881077164439625\n",
      "Bleu_Score -3 = 0.04843618815628108\n",
      "Bleu_Score -4 = 0.02361548929307075\n",
      "evaluating model_7\n",
      "Bleu_Score -1 = 0.18145454545454545\n",
      "Bleu_Score -2 = 0.09663973632188594\n",
      "Bleu_Score -3 = 0.052409775720061225\n",
      "Bleu_Score -4 = 0.0257381596410928\n",
      "evaluating model_8\n",
      "Bleu_Score -1 = 0.14836363636363636\n",
      "Bleu_Score -2 = 0.08249958677582464\n",
      "Bleu_Score -3 = 0.0449677809735886\n",
      "Bleu_Score -4 = 0.022070648787973914\n",
      "evaluating model_9\n",
      "Bleu_Score -1 = 0.18127272727272728\n",
      "Bleu_Score -2 = 0.09617990363707152\n",
      "Bleu_Score -3 = 0.053060570067120755\n",
      "Bleu_Score -4 = 0.02660639120823186\n"
     ]
    }
   ],
   "source": [
    "results = {'bleu_1': [], 'bleu_2': [], 'bleu_3': [], 'bleu_4': []}\n",
    "for i in range(epochs):\n",
    "    model = load_model(f'./models3/model_{i}.h5')\n",
    "    print(f\"evaluating model_{i}\")\n",
    "    bleu_1, bleu_2, bleu_3, bleu_4 = evaluate_model(model, test_descriptions, test_features, tokenizer, max_length)\n",
    "    results['bleu_1'].append(bleu_1)\n",
    "    results['bleu_2'].append(bleu_2)\n",
    "    results['bleu_3'].append(bleu_3)\n",
    "    results['bleu_4'].append(bleu_4)\n",
    "dump(results, open(\"model3_eval.p\",\"wb\"))"
   ]
  },
  {
   "cell_type": "code",
   "execution_count": 70,
   "metadata": {
    "id": "sifT3Vj_HiRw"
   },
   "outputs": [
    {
     "data": {
      "text/plain": [
       "<matplotlib.legend.Legend at 0x7f8858284220>"
      ]
     },
     "execution_count": 70,
     "metadata": {},
     "output_type": "execute_result"
    },
    {
     "data": {
      "image/png": "[encoded data removed]",
      "text/plain": [
       "<Figure size 640x480 with 1 Axes>"
      ]
     },
     "metadata": {},
     "output_type": "display_data"
    }
   ],
   "source": [
    "import matplotlib.pyplot as plt\n",
    "# simple model\n",
    "results = load(open(\"model2_eval.p\", \"rb\"))\n",
    "i = 0\n",
    "colors = ['r-', 'b-', 'g-', 'y-']\n",
    "for key in results:\n",
    "    plt.plot(results[key], colors[i], label=key)\n",
    "    i += 1\n",
    "plt.legend(loc=\"center left\", bbox_to_anchor=(1, 0.5))"
   ]
  },
  {
   "cell_type": "code",
   "execution_count": 71,
   "metadata": {},
   "outputs": [
    {
     "data": {
      "text/plain": [
       "<matplotlib.legend.Legend at 0x7f884b70c100>"
      ]
     },
     "execution_count": 71,
     "metadata": {},
     "output_type": "execute_result"
    },
    {
     "data": {
      "image/png": "[encoded data removed]",
      "text/plain": [
       "<Figure size 640x480 with 1 Axes>"
      ]
     },
     "metadata": {},
     "output_type": "display_data"
    }
   ],
   "source": [
    "# deeper model\n",
    "results = load(open(\"model3_eval.p\", \"rb\"))\n",
    "i = 0\n",
    "colors = ['r-', 'b-', 'g-', 'y-']\n",
    "for key in results:\n",
    "    plt.plot(results[key], colors[i], label=key)\n",
    "    i += 1\n",
    "plt.legend(loc=\"center left\", bbox_to_anchor=(1, 0.5))"
   ]
  },
  {
   "cell_type": "markdown",
   "metadata": {},
   "source": [
    "## Use pretrained embedding for caption tokens"
   ]
  },
  {
   "cell_type": "code",
   "execution_count": 75,
   "metadata": {},
   "outputs": [
    {
     "name": "stdout",
     "output_type": "stream",
     "text": [
      "Found 400000 word vectors.\n"
     ]
    }
   ],
   "source": [
    "path_to_glove_file = \"glove/glove.6B.300d.txt\"\n",
    "embeddings_index = {}\n",
    "with open(path_to_glove_file) as f:\n",
    "    for line in f:\n",
    "        word, coefs = line.split(maxsplit=1)\n",
    "        coefs = np.fromstring(coefs, \"f\", sep=\" \")\n",
    "        embeddings_index[word] = coefs\n",
    "\n",
    "print(\"Found %s word vectors.\" % len(embeddings_index))"
   ]
  },
  {
   "cell_type": "code",
   "execution_count": null,
   "metadata": {},
   "outputs": [],
   "source": [
    "tokenizer.word_index"
   ]
  },
  {
   "cell_type": "code",
   "execution_count": 112,
   "metadata": {},
   "outputs": [
    {
     "name": "stdout",
     "output_type": "stream",
     "text": [
      "Converted 6767 words (498 misses)\n"
     ]
    }
   ],
   "source": [
    "num_tokens = vocab_size\n",
    "embedding_dim = 300\n",
    "hits = 0\n",
    "misses = 0\n",
    "\n",
    "embedding_matrix = np.zeros((num_tokens, embedding_dim))\n",
    "for word, i in tokenizer.word_index.items():\n",
    "    embedding_vector = embeddings_index.get(word)\n",
    "    if embedding_vector is not None:\n",
    "        # Words not found in embedding index will be all-zeros.\n",
    "        # This includes the representation for \"padding\" and \"OOV\"\n",
    "        embedding_matrix[i] = embedding_vector\n",
    "        hits += 1\n",
    "    else:\n",
    "        misses += 1\n",
    "print(\"Converted %d words (%d misses)\" % (hits, misses))"
   ]
  },
  {
   "cell_type": "code",
   "execution_count": 116,
   "metadata": {},
   "outputs": [],
   "source": [
    "# define the captioning model\n",
    "def define_model2(vocab_size, max_length):\n",
    "    \n",
    "    # features from the CNN model squeezed from 2048 to 256 nodes\n",
    "    inputs1 = Input(shape=(2048,))\n",
    "    fe1 = Dropout(0.5)(inputs1)\n",
    "    fe2 = Dense(512 , activation='relu')(fe1)\n",
    "    fe3 = Dense(256 , activation = 'relu')(fe2)\n",
    "\n",
    "    # LSTM sequence model, with pre-trained embedding from Glove dataset\n",
    "    inputs2 = Input(shape=(max_length,))\n",
    "    se1 = Embedding(vocab_size, 300, mask_zero=True, \n",
    "                    embeddings_initializer=keras.initializers.Constant(embedding_matrix),\n",
    "                    trainable=False)(inputs2)\n",
    "    se2 = Dropout(0.5)(se1)\n",
    "    se3 = LSTM(512, return_sequences=True)(se2)\n",
    "    se4 = Dropout(0.5)(se3)\n",
    "    se5 = LSTM(256)(se4)\n",
    "\n",
    "    # Merging both models\n",
    "    decoder1 = concatenate([fe3, se5])\n",
    "    decoder2 = Dense(256, activation='relu')(decoder1)\n",
    "    decoder3 = Dense(512, activation='relu')(decoder1)\n",
    "    outputs = Dense(vocab_size, activation='softmax')(decoder3)\n",
    "    \n",
    "    # tie it together [image, seq] [word]\n",
    "    model = Model(inputs=[inputs1, inputs2], outputs=outputs)\n",
    "    model.compile(loss='categorical_crossentropy', optimizer='adam')\n",
    "    \n",
    "    # summarize model\n",
    "    print(model.summary())\n",
    "    \n",
    "    return model"
   ]
  },
  {
   "cell_type": "code",
   "execution_count": 117,
   "metadata": {},
   "outputs": [
    {
     "name": "stdout",
     "output_type": "stream",
     "text": [
      "Dataset:  6000\n",
      "Descriptions: train= 6000\n",
      "Photos: train= 6000\n",
      "Vocabulary Size: 7266\n",
      "Description Length:  31\n",
      "Model: \"model_3\"\n",
      "__________________________________________________________________________________________________\n",
      " Layer (type)                   Output Shape         Param #     Connected to                     \n",
      "==================================================================================================\n",
      " input_16 (InputLayer)          [(None, 31)]         0           []                               \n",
      "                                                                                                  \n",
      " embedding_6 (Embedding)        (None, 31, 300)      2179800     ['input_16[0][0]']               \n",
      "                                                                                                  \n",
      " input_15 (InputLayer)          [(None, 2048)]       0           []                               \n",
      "                                                                                                  \n",
      " dropout_19 (Dropout)           (None, 31, 300)      0           ['embedding_6[0][0]']            \n",
      "                                                                                                  \n",
      " dropout_18 (Dropout)           (None, 2048)         0           ['input_15[0][0]']               \n",
      "                                                                                                  \n",
      " lstm_11 (LSTM)                 (None, 31, 512)      1665024     ['dropout_19[0][0]']             \n",
      "                                                                                                  \n",
      " dense_23 (Dense)               (None, 512)          1049088     ['dropout_18[0][0]']             \n",
      "                                                                                                  \n",
      " dropout_20 (Dropout)           (None, 31, 512)      0           ['lstm_11[0][0]']                \n",
      "                                                                                                  \n",
      " dense_24 (Dense)               (None, 256)          131328      ['dense_23[0][0]']               \n",
      "                                                                                                  \n",
      " lstm_12 (LSTM)                 (None, 256)          787456      ['dropout_20[0][0]']             \n",
      "                                                                                                  \n",
      " concatenate_6 (Concatenate)    (None, 512)          0           ['dense_24[0][0]',               \n",
      "                                                                  'lstm_12[0][0]']                \n",
      "                                                                                                  \n",
      " dense_26 (Dense)               (None, 512)          262656      ['concatenate_6[0][0]']          \n",
      "                                                                                                  \n",
      " dense_27 (Dense)               (None, 7266)         3727458     ['dense_26[0][0]']               \n",
      "                                                                                                  \n",
      "==================================================================================================\n",
      "Total params: 9,802,810\n",
      "Trainable params: 7,623,010\n",
      "Non-trainable params: 2,179,800\n",
      "__________________________________________________________________________________________________\n",
      "None\n"
     ]
    },
    {
     "name": "stderr",
     "output_type": "stream",
     "text": [
      "/var/folders/b4/kmgwdkbj4nn7rv403zgbf13c0000gn/T/ipykernel_54800/2670245547.py:17: UserWarning: `Model.fit_generator` is deprecated and will be removed in a future version. Please use `Model.fit`, which supports generators.\n",
      "  model.fit_generator(generator, epochs=1, steps_per_epoch= steps, verbose=1)\n"
     ]
    },
    {
     "name": "stdout",
     "output_type": "stream",
     "text": [
      "6000/6000 [==============================] - 1588s 264ms/step - loss: 4.5155\n",
      "6000/6000 [==============================] - 1583s 264ms/step - loss: 3.7075\n",
      "6000/6000 [==============================] - 1583s 264ms/step - loss: 3.4359\n",
      "6000/6000 [==============================] - 1584s 264ms/step - loss: 3.2713\n",
      "6000/6000 [==============================] - 1584s 264ms/step - loss: 3.1614\n",
      "6000/6000 [==============================] - 1581s 264ms/step - loss: 3.0722\n",
      "6000/6000 [==============================] - 1581s 263ms/step - loss: 3.0004\n",
      "6000/6000 [==============================] - 1582s 264ms/step - loss: 2.9471\n",
      "6000/6000 [==============================] - 1580s 263ms/step - loss: 2.8977\n",
      "6000/6000 [==============================] - 1582s 264ms/step - loss: 2.8557\n"
     ]
    }
   ],
   "source": [
    "from tensorflow import keras\n",
    "print('Dataset: ', len(train_imgs))\n",
    "print('Descriptions: train=', len(train_descriptions))\n",
    "print('Photos: train=', len(train_features))\n",
    "print('Vocabulary Size:', vocab_size)\n",
    "print('Description Length: ', max_length)\n",
    "\n",
    "model = define_model2(vocab_size, max_length)\n",
    "epochs = 10\n",
    "steps = len(train_descriptions)\n",
    "folder = \"models4\"\n",
    "# making a directory models to save our models\n",
    "if not os.path.exists(folder):\n",
    "    os.mkdir(folder)\n",
    "for i in range(epochs):\n",
    "    generator = data_generator(train_descriptions, train_features, tokenizer, max_length)\n",
    "    model.fit_generator(generator, epochs=1, steps_per_epoch= steps, verbose=1)\n",
    "    model.save(f\"{folder}/model_\" + str(i) + \".h5\")"
   ]
  },
  {
   "cell_type": "code",
   "execution_count": 118,
   "metadata": {},
   "outputs": [
    {
     "name": "stdout",
     "output_type": "stream",
     "text": [
      "evaluating model_0\n",
      "Bleu_Score -1 = 0.37827342427561483\n",
      "Bleu_Score -2 = 0.20143387953231112\n",
      "Bleu_Score -3 = 0.09912413838391419\n",
      "Bleu_Score -4 = 0.04278916213750296\n",
      "evaluating model_1\n",
      "Bleu_Score -1 = 0.32470352430265575\n",
      "Bleu_Score -2 = 0.17609282656442543\n",
      "Bleu_Score -3 = 0.09121182418100698\n",
      "Bleu_Score -4 = 0.041577592505911844\n",
      "evaluating model_2\n",
      "Bleu_Score -1 = 0.34514109271807186\n",
      "Bleu_Score -2 = 0.18244697248371997\n",
      "Bleu_Score -3 = 0.09311362284461781\n",
      "Bleu_Score -4 = 0.044202379270988634\n",
      "evaluating model_3\n",
      "Bleu_Score -1 = 0.35156885794375625\n",
      "Bleu_Score -2 = 0.18991866274510308\n",
      "Bleu_Score -3 = 0.10010840770839884\n",
      "Bleu_Score -4 = 0.04956912690578213\n",
      "evaluating model_4\n",
      "Bleu_Score -1 = 0.3559011893870082\n",
      "Bleu_Score -2 = 0.1986477978347654\n",
      "Bleu_Score -3 = 0.11042136224105942\n",
      "Bleu_Score -4 = 0.05624152242622845\n",
      "evaluating model_5\n",
      "Bleu_Score -1 = 0.35676368295808164\n",
      "Bleu_Score -2 = 0.20268718873187658\n",
      "Bleu_Score -3 = 0.113950314905327\n",
      "Bleu_Score -4 = 0.0597664899648889\n",
      "evaluating model_6\n",
      "Bleu_Score -1 = 0.3511659807956104\n",
      "Bleu_Score -2 = 0.2010822174737407\n",
      "Bleu_Score -3 = 0.11379557395581544\n",
      "Bleu_Score -4 = 0.05962190964448895\n",
      "evaluating model_7\n",
      "Bleu_Score -1 = 0.36194940912198464\n",
      "Bleu_Score -2 = 0.20711831870277328\n",
      "Bleu_Score -3 = 0.11736816600751226\n",
      "Bleu_Score -4 = 0.06208816442748968\n",
      "evaluating model_8\n",
      "Bleu_Score -1 = 0.35959789372905704\n",
      "Bleu_Score -2 = 0.19984594133230824\n",
      "Bleu_Score -3 = 0.11186632152861792\n",
      "Bleu_Score -4 = 0.05792906422776629\n",
      "evaluating model_9\n",
      "Bleu_Score -1 = 0.35088723526044646\n",
      "Bleu_Score -2 = 0.1977749588983724\n",
      "Bleu_Score -3 = 0.11301470250990274\n",
      "Bleu_Score -4 = 0.06222187394112158\n"
     ]
    }
   ],
   "source": [
    "results = {'bleu_1': [], 'bleu_2': [], 'bleu_3': [], 'bleu_4': []}\n",
    "for i in range(epochs):\n",
    "    model = load_model(f'./models4/model_{i}.h5')\n",
    "    print(f\"evaluating model_{i}\")\n",
    "    bleu_1, bleu_2, bleu_3, bleu_4 = evaluate_model(model, test_descriptions, test_features, tokenizer, max_length)\n",
    "    results['bleu_1'].append(bleu_1)\n",
    "    results['bleu_2'].append(bleu_2)\n",
    "    results['bleu_3'].append(bleu_3)\n",
    "    results['bleu_4'].append(bleu_4)\n",
    "dump(results, open(\"model4_eval.p\",\"wb\"))"
   ]
  },
  {
   "cell_type": "code",
   "execution_count": 119,
   "metadata": {},
   "outputs": [
    {
     "data": {
      "text/plain": [
       "<matplotlib.legend.Legend at 0x7f8868f9d100>"
      ]
     },
     "execution_count": 119,
     "metadata": {},
     "output_type": "execute_result"
    },
    {
     "data": {
      "image/png": "[encoded data removed]",
      "text/plain": [
       "<Figure size 640x480 with 1 Axes>"
      ]
     },
     "metadata": {},
     "output_type": "display_data"
    }
   ],
   "source": [
    "# pre-trained embedding\n",
    "results = load(open(\"model4_eval.p\", \"rb\"))\n",
    "i = 0\n",
    "colors = ['r-', 'b-', 'g-', 'y-']\n",
    "for key in results:\n",
    "    plt.plot(results[key], colors[i], label=key)\n",
    "    i += 1\n",
    "plt.legend(loc=\"center left\", bbox_to_anchor=(1, 0.5))"
   ]
  },
  {
   "cell_type": "markdown",
   "metadata": {},
   "source": [
    "## Incorporate pre-train imagenet weights"
   ]
  },
  {
   "cell_type": "code",
   "execution_count": 120,
   "metadata": {},
   "outputs": [],
   "source": [
    "def extract_imgnet_features(directory):\n",
    "    model = Xception( include_top=False, pooling='avg', weights='imagenet')\n",
    "    features = {}\n",
    "    for img in tqdm(os.listdir(directory)):\n",
    "        filename = directory + \"/\" + img\n",
    "        image = Image.open(filename)\n",
    "        image = image.resize((299,299))\n",
    "        image = np.expand_dims(image, axis=0)\n",
    "        #image = preprocess_input(image)\n",
    "        image = image/127.5\n",
    "        image = image - 1.0\n",
    "\n",
    "        feature = model.predict(image)\n",
    "        features[img] = feature\n",
    "    return features"
   ]
  },
  {
   "cell_type": "code",
   "execution_count": null,
   "metadata": {},
   "outputs": [],
   "source": [
    "features = extract_features(dataset_images)\n",
    "dump(features, open(\"features_imagenet.p\",\"wb\"))"
   ]
  },
  {
   "cell_type": "code",
   "execution_count": 123,
   "metadata": {},
   "outputs": [],
   "source": [
    "filename = dataset_text + \"/\" + \"Flickr_8k.trainImages.txt\"\n",
    "\n",
    "#train = loading_data(filename)\n",
    "train_imgs = load_photos(filename)\n",
    "train_descriptions = load_clean_descriptions(\"descriptions.txt\", train_imgs)\n",
    "train_features = load_features(train_imgs, \"features_imagenet.p\")"
   ]
  },
  {
   "cell_type": "code",
   "execution_count": 124,
   "metadata": {},
   "outputs": [
    {
     "name": "stdout",
     "output_type": "stream",
     "text": [
      "Dataset:  6000\n",
      "Descriptions: train= 6000\n",
      "Photos: train= 6000\n",
      "Vocabulary Size: 7266\n",
      "Description Length:  31\n",
      "Model: \"model_4\"\n",
      "__________________________________________________________________________________________________\n",
      " Layer (type)                   Output Shape         Param #     Connected to                     \n",
      "==================================================================================================\n",
      " input_19 (InputLayer)          [(None, 31)]         0           []                               \n",
      "                                                                                                  \n",
      " embedding_7 (Embedding)        (None, 31, 300)      2179800     ['input_19[0][0]']               \n",
      "                                                                                                  \n",
      " input_18 (InputLayer)          [(None, 2048)]       0           []                               \n",
      "                                                                                                  \n",
      " dropout_22 (Dropout)           (None, 31, 300)      0           ['embedding_7[0][0]']            \n",
      "                                                                                                  \n",
      " dropout_21 (Dropout)           (None, 2048)         0           ['input_18[0][0]']               \n",
      "                                                                                                  \n",
      " lstm_13 (LSTM)                 (None, 31, 512)      1665024     ['dropout_22[0][0]']             \n",
      "                                                                                                  \n",
      " dense_28 (Dense)               (None, 512)          1049088     ['dropout_21[0][0]']             \n",
      "                                                                                                  \n",
      " dropout_23 (Dropout)           (None, 31, 512)      0           ['lstm_13[0][0]']                \n",
      "                                                                                                  \n",
      " dense_29 (Dense)               (None, 256)          131328      ['dense_28[0][0]']               \n",
      "                                                                                                  \n",
      " lstm_14 (LSTM)                 (None, 256)          787456      ['dropout_23[0][0]']             \n",
      "                                                                                                  \n",
      " concatenate_7 (Concatenate)    (None, 512)          0           ['dense_29[0][0]',               \n",
      "                                                                  'lstm_14[0][0]']                \n",
      "                                                                                                  \n",
      " dense_31 (Dense)               (None, 512)          262656      ['concatenate_7[0][0]']          \n",
      "                                                                                                  \n",
      " dense_32 (Dense)               (None, 7266)         3727458     ['dense_31[0][0]']               \n",
      "                                                                                                  \n",
      "==================================================================================================\n",
      "Total params: 9,802,810\n",
      "Trainable params: 7,623,010\n",
      "Non-trainable params: 2,179,800\n",
      "__________________________________________________________________________________________________\n",
      "None\n"
     ]
    },
    {
     "name": "stderr",
     "output_type": "stream",
     "text": [
      "/var/folders/b4/kmgwdkbj4nn7rv403zgbf13c0000gn/T/ipykernel_54800/406890711.py:16: UserWarning: `Model.fit_generator` is deprecated and will be removed in a future version. Please use `Model.fit`, which supports generators.\n",
      "  model.fit_generator(generator, epochs=1, steps_per_epoch= steps, verbose=1)\n"
     ]
    },
    {
     "name": "stdout",
     "output_type": "stream",
     "text": [
      "6000/6000 [==============================] - 1590s 264ms/step - loss: 4.5210\n",
      "6000/6000 [==============================] - 1582s 264ms/step - loss: 3.7197\n",
      "6000/6000 [==============================] - 1582s 264ms/step - loss: 3.4391\n",
      "6000/6000 [==============================] - 1565s 261ms/step - loss: 3.2721\n",
      "6000/6000 [==============================] - 1565s 261ms/step - loss: 3.1559\n",
      "6000/6000 [==============================] - 1567s 261ms/step - loss: 3.0728\n",
      "6000/6000 [==============================] - 1570s 262ms/step - loss: 3.0016\n",
      "6000/6000 [==============================] - 1570s 262ms/step - loss: 2.9445\n",
      "6000/6000 [==============================] - 1569s 261ms/step - loss: 2.9004\n",
      "6000/6000 [==============================] - 1571s 262ms/step - loss: 2.8582\n"
     ]
    }
   ],
   "source": [
    "print('Dataset: ', len(train_imgs))\n",
    "print('Descriptions: train=', len(train_descriptions))\n",
    "print('Photos: train=', len(train_features))\n",
    "print('Vocabulary Size:', vocab_size)\n",
    "print('Description Length: ', max_length)\n",
    "\n",
    "model = define_model2(vocab_size, max_length)\n",
    "epochs = 10\n",
    "steps = len(train_descriptions)\n",
    "folder = \"models5\"\n",
    "# making a directory models to save our models\n",
    "if not os.path.exists(folder):\n",
    "    os.mkdir(folder)\n",
    "for i in range(epochs):\n",
    "    generator = data_generator(train_descriptions, train_features, tokenizer, max_length)\n",
    "    model.fit_generator(generator, epochs=1, steps_per_epoch= steps, verbose=1)\n",
    "    model.save(f\"{folder}/model_\" + str(i) + \".h5\")"
   ]
  },
  {
   "cell_type": "code",
   "execution_count": 125,
   "metadata": {},
   "outputs": [],
   "source": [
    "test_imgs = load_photos(filename)\n",
    "test_descriptions = load_clean_descriptions(\"descriptions.txt\", test_imgs)\n",
    "test_features = load_features(test_imgs, \"features_imagenet.p\")"
   ]
  },
  {
   "cell_type": "code",
   "execution_count": 127,
   "metadata": {},
   "outputs": [],
   "source": [
    "def evaluate(model, model_id, test_descriptionscriptions, test_features, tokenizer, max_length):\n",
    "    results = {'bleu_1': [], 'bleu_2': [], 'bleu_3': [], 'bleu_4': []}\n",
    "    for i in range(epochs):\n",
    "        model = load_model(f'./models{model_id}/model_{i}.h5')\n",
    "        print(f\"evaluating model_{i}\")\n",
    "        bleu_1, bleu_2, bleu_3, bleu_4 = evaluate_model(model, test_descriptions, test_features, tokenizer, max_length)\n",
    "        results['bleu_1'].append(bleu_1)\n",
    "        results['bleu_2'].append(bleu_2)\n",
    "        results['bleu_3'].append(bleu_3)\n",
    "        results['bleu_4'].append(bleu_4)\n",
    "    dump(results, open(f\"model{model_id}_eval.p\",\"wb\"))"
   ]
  },
  {
   "cell_type": "code",
   "execution_count": 128,
   "metadata": {},
   "outputs": [
    {
     "name": "stdout",
     "output_type": "stream",
     "text": [
      "evaluating model_0\n",
      "Bleu_Score -1 = 0.5521630561681152\n",
      "Bleu_Score -2 = 0.3051581199971846\n",
      "Bleu_Score -3 = 0.17873741845278857\n",
      "Bleu_Score -4 = 0.09746011574903123\n",
      "evaluating model_1\n",
      "Bleu_Score -1 = 0.565093200143636\n",
      "Bleu_Score -2 = 0.3177924324804411\n",
      "Bleu_Score -3 = 0.19096568284790177\n",
      "Bleu_Score -4 = 0.10708553085979218\n",
      "evaluating model_2\n",
      "Bleu_Score -1 = 0.5639860942573218\n",
      "Bleu_Score -2 = 0.318557574393628\n",
      "Bleu_Score -3 = 0.19507469344472478\n",
      "Bleu_Score -4 = 0.113170807459417\n",
      "evaluating model_3\n",
      "Bleu_Score -1 = 0.561759756914381\n",
      "Bleu_Score -2 = 0.32054855657567527\n",
      "Bleu_Score -3 = 0.19769002206230396\n",
      "Bleu_Score -4 = 0.11501375636603751\n",
      "evaluating model_4\n",
      "Bleu_Score -1 = 0.5618203522312888\n",
      "Bleu_Score -2 = 0.31988150757296935\n",
      "Bleu_Score -3 = 0.19794088648592797\n",
      "Bleu_Score -4 = 0.11457159947266293\n",
      "evaluating model_5\n",
      "Bleu_Score -1 = 0.5570203728466924\n",
      "Bleu_Score -2 = 0.31605251383821537\n",
      "Bleu_Score -3 = 0.1937245218366675\n",
      "Bleu_Score -4 = 0.11263074432825403\n",
      "evaluating model_6\n",
      "Bleu_Score -1 = 0.5684497694676217\n",
      "Bleu_Score -2 = 0.3271064840952531\n",
      "Bleu_Score -3 = 0.2026718946595778\n",
      "Bleu_Score -4 = 0.11937664424436145\n",
      "evaluating model_7\n",
      "Bleu_Score -1 = 0.5643365370589475\n",
      "Bleu_Score -2 = 0.32351583753062685\n",
      "Bleu_Score -3 = 0.19908408110467232\n",
      "Bleu_Score -4 = 0.11624661793077741\n",
      "evaluating model_8\n",
      "Bleu_Score -1 = 0.561101384688843\n",
      "Bleu_Score -2 = 0.3210415850982998\n",
      "Bleu_Score -3 = 0.19878823242047589\n",
      "Bleu_Score -4 = 0.11797599588671258\n",
      "evaluating model_9\n",
      "Bleu_Score -1 = 0.5601295853921922\n",
      "Bleu_Score -2 = 0.31857746767803413\n",
      "Bleu_Score -3 = 0.19614120429909732\n",
      "Bleu_Score -4 = 0.11480841630289365\n"
     ]
    }
   ],
   "source": [
    "evaluate(model, 5, test_descriptions, test_features, tokenizer, max_length)"
   ]
  },
  {
   "cell_type": "code",
   "execution_count": 129,
   "metadata": {},
   "outputs": [],
   "source": [
    "def plot_bleu(model_id):\n",
    "    results = load(open(f\"model{model_id}_eval.p\", \"rb\"))\n",
    "    i = 0\n",
    "    colors = ['r-', 'b-', 'g-', 'y-']\n",
    "    for key in results:\n",
    "        plt.plot(results[key], colors[i], label=key)\n",
    "        i += 1\n",
    "    plt.legend(loc=\"center left\", bbox_to_anchor=(1, 0.5))"
   ]
  },
  {
   "cell_type": "code",
   "execution_count": 130,
   "metadata": {},
   "outputs": [
    {
     "data": {
      "image/png": "[encoded data removed]",
      "text/plain": [
       "<Figure size 640x480 with 1 Axes>"
      ]
     },
     "metadata": {},
     "output_type": "display_data"
    }
   ],
   "source": [
    "plot_bleu(5)"
   ]
  }
 ],
 "metadata": {
  "accelerator": "GPU",
  "colab": {
   "provenance": []
  },
  "gpuClass": "standard",
  "kernelspec": {
   "display_name": "Python 3 (ipykernel)",
   "language": "python",
   "name": "python3"
  },
  "language_info": {
   "codemirror_mode": {
    "name": "ipython",
    "version": 3
   },
   "file_extension": ".py",
   "mimetype": "text/x-python",
   "name": "python",
   "nbconvert_exporter": "python",
   "pygments_lexer": "ipython3",
   "version": "3.8.15"
  },
  "widgets": {
   "application/vnd.jupyter.widget-state+json": {
    "0610d6c5ffd84ecf9ca255de63346efd": {
     "model_module": "@jupyter-widgets/controls",
     "model_module_version": "1.5.0",
     "model_name": "ProgressStyleModel",
     "state": {
      "_model_module": "@jupyter-widgets/controls",
      "_model_module_version": "1.5.0",
      "_model_name": "ProgressStyleModel",
      "_view_count": null,
      "_view_module": "@jupyter-widgets/base",
      "_view_module_version": "1.2.0",
      "_view_name": "StyleView",
      "bar_color": null,
      "description_width": ""
     }
    },
    "0930767aadd94ad9844fe7d3495f39ca": {
     "model_module": "@jupyter-widgets/base",
     "model_module_version": "1.2.0",
     "model_name": "LayoutModel",
     "state": {
      "_model_module": "@jupyter-widgets/base",
      "_model_module_version": "1.2.0",
      "_model_name": "LayoutModel",
      "_view_count": null,
      "_view_module": "@jupyter-widgets/base",
      "_view_module_version": "1.2.0",
      "_view_name": "LayoutView",
      "align_content": null,
      "align_items": null,
      "align_self": null,
      "border": null,
      "bottom": null,
      "display": null,
      "flex": null,
      "flex_flow": null,
      "grid_area": null,
      "grid_auto_columns": null,
      "grid_auto_flow": null,
      "grid_auto_rows": null,
      "grid_column": null,
      "grid_gap": null,
      "grid_row": null,
      "grid_template_areas": null,
      "grid_template_columns": null,
      "grid_template_rows": null,
      "height": null,
      "justify_content": null,
      "justify_items": null,
      "left": null,
      "margin": null,
      "max_height": null,
      "max_width": null,
      "min_height": null,
      "min_width": null,
      "object_fit": null,
      "object_position": null,
      "order": null,
      "overflow": null,
      "overflow_x": null,
      "overflow_y": null,
      "padding": null,
      "right": null,
      "top": null,
      "visibility": null,
      "width": null
     }
    },
    "10143c597ad64366a817c7f6b2648122": {
     "model_module": "@jupyter-widgets/controls",
     "model_module_version": "1.5.0",
     "model_name": "FloatProgressModel",
     "state": {
      "_dom_classes": [],
      "_model_module": "@jupyter-widgets/controls",
      "_model_module_version": "1.5.0",
      "_model_name": "FloatProgressModel",
      "_view_count": null,
      "_view_module": "@jupyter-widgets/controls",
      "_view_module_version": "1.5.0",
      "_view_name": "ProgressView",
      "bar_style": "success",
      "description": "",
      "description_tooltip": null,
      "layout": "IPY_MODEL_528497ce8049494385b60db2e726b746",
      "max": 8091,
      "min": 0,
      "orientation": "horizontal",
      "style": "IPY_MODEL_0610d6c5ffd84ecf9ca255de63346efd",
      "value": 8091
     }
    },
    "1d2f8c4c0ebd475dabf61901f4372040": {
     "model_module": "@jupyter-widgets/controls",
     "model_module_version": "1.5.0",
     "model_name": "DescriptionStyleModel",
     "state": {
      "_model_module": "@jupyter-widgets/controls",
      "_model_module_version": "1.5.0",
      "_model_name": "DescriptionStyleModel",
      "_view_count": null,
      "_view_module": "@jupyter-widgets/base",
      "_view_module_version": "1.2.0",
      "_view_name": "StyleView",
      "description_width": ""
     }
    },
    "1f465d564222427fa6228b0271d6c550": {
     "model_module": "@jupyter-widgets/controls",
     "model_module_version": "1.5.0",
     "model_name": "DescriptionStyleModel",
     "state": {
      "_model_module": "@jupyter-widgets/controls",
      "_model_module_version": "1.5.0",
      "_model_name": "DescriptionStyleModel",
      "_view_count": null,
      "_view_module": "@jupyter-widgets/base",
      "_view_module_version": "1.2.0",
      "_view_name": "StyleView",
      "description_width": ""
     }
    },
    "2babbf231ffc487a87ba3845ae68cc77": {
     "model_module": "@jupyter-widgets/controls",
     "model_module_version": "1.5.0",
     "model_name": "FloatProgressModel",
     "state": {
      "_dom_classes": [],
      "_model_module": "@jupyter-widgets/controls",
      "_model_module_version": "1.5.0",
      "_model_name": "FloatProgressModel",
      "_view_count": null,
      "_view_module": "@jupyter-widgets/controls",
      "_view_module_version": "1.5.0",
      "_view_name": "ProgressView",
      "bar_style": "success",
      "description": "",
      "description_tooltip": null,
      "layout": "IPY_MODEL_e07a7085a0c54ae7b4c423ff96da2020",
      "max": 1,
      "min": 0,
      "orientation": "horizontal",
      "style": "IPY_MODEL_6a2b0dbc64674a8591ee468810d5311a",
      "value": 0
     }
    },
    "3825100931f34eea92a47535ae5b272d": {
     "model_module": "@jupyter-widgets/controls",
     "model_module_version": "1.5.0",
     "model_name": "HTMLModel",
     "state": {
      "_dom_classes": [],
      "_model_module": "@jupyter-widgets/controls",
      "_model_module_version": "1.5.0",
      "_model_name": "HTMLModel",
      "_view_count": null,
      "_view_module": "@jupyter-widgets/controls",
      "_view_module_version": "1.5.0",
      "_view_name": "HTMLView",
      "description": "",
      "description_tooltip": null,
      "layout": "IPY_MODEL_613860f74f1a4ef486e4fbfad3e892fc",
      "placeholder": "​",
      "style": "IPY_MODEL_1f465d564222427fa6228b0271d6c550",
      "value": ""
     }
    },
    "43f35760046b41cc92f7eb54becb8064": {
     "model_module": "@jupyter-widgets/controls",
     "model_module_version": "1.5.0",
     "model_name": "HBoxModel",
     "state": {
      "_dom_classes": [],
      "_model_module": "@jupyter-widgets/controls",
      "_model_module_version": "1.5.0",
      "_model_name": "HBoxModel",
      "_view_count": null,
      "_view_module": "@jupyter-widgets/controls",
      "_view_module_version": "1.5.0",
      "_view_name": "HBoxView",
      "box_style": "",
      "children": [
       "IPY_MODEL_3825100931f34eea92a47535ae5b272d",
       "IPY_MODEL_2babbf231ffc487a87ba3845ae68cc77",
       "IPY_MODEL_f5e3d81c4b9c4633a2eda2f41eb1f8b1"
      ],
      "layout": "IPY_MODEL_c7242aad0eac4c6c8ac2e666e5c027a2"
     }
    },
    "48c4cd6c47f64e37b9ada031ff0d364f": {
     "model_module": "@jupyter-widgets/base",
     "model_module_version": "1.2.0",
     "model_name": "LayoutModel",
     "state": {
      "_model_module": "@jupyter-widgets/base",
      "_model_module_version": "1.2.0",
      "_model_name": "LayoutModel",
      "_view_count": null,
      "_view_module": "@jupyter-widgets/base",
      "_view_module_version": "1.2.0",
      "_view_name": "LayoutView",
      "align_content": null,
      "align_items": null,
      "align_self": null,
      "border": null,
      "bottom": null,
      "display": null,
      "flex": null,
      "flex_flow": null,
      "grid_area": null,
      "grid_auto_columns": null,
      "grid_auto_flow": null,
      "grid_auto_rows": null,
      "grid_column": null,
      "grid_gap": null,
      "grid_row": null,
      "grid_template_areas": null,
      "grid_template_columns": null,
      "grid_template_rows": null,
      "height": null,
      "justify_content": null,
      "justify_items": null,
      "left": null,
      "margin": null,
      "max_height": null,
      "max_width": null,
      "min_height": null,
      "min_width": null,
      "object_fit": null,
      "object_position": null,
      "order": null,
      "overflow": null,
      "overflow_x": null,
      "overflow_y": null,
      "padding": null,
      "right": null,
      "top": null,
      "visibility": null,
      "width": null
     }
    },
    "4e6df7f7d1fa484cba0f2a93aa9ff629": {
     "model_module": "@jupyter-widgets/controls",
     "model_module_version": "1.5.0",
     "model_name": "DescriptionStyleModel",
     "state": {
      "_model_module": "@jupyter-widgets/controls",
      "_model_module_version": "1.5.0",
      "_model_name": "DescriptionStyleModel",
      "_view_count": null,
      "_view_module": "@jupyter-widgets/base",
      "_view_module_version": "1.2.0",
      "_view_name": "StyleView",
      "description_width": ""
     }
    },
    "528497ce8049494385b60db2e726b746": {
     "model_module": "@jupyter-widgets/base",
     "model_module_version": "1.2.0",
     "model_name": "LayoutModel",
     "state": {
      "_model_module": "@jupyter-widgets/base",
      "_model_module_version": "1.2.0",
      "_model_name": "LayoutModel",
      "_view_count": null,
      "_view_module": "@jupyter-widgets/base",
      "_view_module_version": "1.2.0",
      "_view_name": "LayoutView",
      "align_content": null,
      "align_items": null,
      "align_self": null,
      "border": null,
      "bottom": null,
      "display": null,
      "flex": null,
      "flex_flow": null,
      "grid_area": null,
      "grid_auto_columns": null,
      "grid_auto_flow": null,
      "grid_auto_rows": null,
      "grid_column": null,
      "grid_gap": null,
      "grid_row": null,
      "grid_template_areas": null,
      "grid_template_columns": null,
      "grid_template_rows": null,
      "height": null,
      "justify_content": null,
      "justify_items": null,
      "left": null,
      "margin": null,
      "max_height": null,
      "max_width": null,
      "min_height": null,
      "min_width": null,
      "object_fit": null,
      "object_position": null,
      "order": null,
      "overflow": null,
      "overflow_x": null,
      "overflow_y": null,
      "padding": null,
      "right": null,
      "top": null,
      "visibility": null,
      "width": null
     }
    },
    "55be3250d4264dbea1e6b71ff207ac0f": {
     "model_module": "@jupyter-widgets/base",
     "model_module_version": "1.2.0",
     "model_name": "LayoutModel",
     "state": {
      "_model_module": "@jupyter-widgets/base",
      "_model_module_version": "1.2.0",
      "_model_name": "LayoutModel",
      "_view_count": null,
      "_view_module": "@jupyter-widgets/base",
      "_view_module_version": "1.2.0",
      "_view_name": "LayoutView",
      "align_content": null,
      "align_items": null,
      "align_self": null,
      "border": null,
      "bottom": null,
      "display": null,
      "flex": null,
      "flex_flow": null,
      "grid_area": null,
      "grid_auto_columns": null,
      "grid_auto_flow": null,
      "grid_auto_rows": null,
      "grid_column": null,
      "grid_gap": null,
      "grid_row": null,
      "grid_template_areas": null,
      "grid_template_columns": null,
      "grid_template_rows": null,
      "height": null,
      "justify_content": null,
      "justify_items": null,
      "left": null,
      "margin": null,
      "max_height": null,
      "max_width": null,
      "min_height": null,
      "min_width": null,
      "object_fit": null,
      "object_position": null,
      "order": null,
      "overflow": null,
      "overflow_x": null,
      "overflow_y": null,
      "padding": null,
      "right": null,
      "top": null,
      "visibility": null,
      "width": null
     }
    },
    "613860f74f1a4ef486e4fbfad3e892fc": {
     "model_module": "@jupyter-widgets/base",
     "model_module_version": "1.2.0",
     "model_name": "LayoutModel",
     "state": {
      "_model_module": "@jupyter-widgets/base",
      "_model_module_version": "1.2.0",
      "_model_name": "LayoutModel",
      "_view_count": null,
      "_view_module": "@jupyter-widgets/base",
      "_view_module_version": "1.2.0",
      "_view_name": "LayoutView",
      "align_content": null,
      "align_items": null,
      "align_self": null,
      "border": null,
      "bottom": null,
      "display": null,
      "flex": null,
      "flex_flow": null,
      "grid_area": null,
      "grid_auto_columns": null,
      "grid_auto_flow": null,
      "grid_auto_rows": null,
      "grid_column": null,
      "grid_gap": null,
      "grid_row": null,
      "grid_template_areas": null,
      "grid_template_columns": null,
      "grid_template_rows": null,
      "height": null,
      "justify_content": null,
      "justify_items": null,
      "left": null,
      "margin": null,
      "max_height": null,
      "max_width": null,
      "min_height": null,
      "min_width": null,
      "object_fit": null,
      "object_position": null,
      "order": null,
      "overflow": null,
      "overflow_x": null,
      "overflow_y": null,
      "padding": null,
      "right": null,
      "top": null,
      "visibility": null,
      "width": null
     }
    },
    "62493709351d40668fcc344f53e6f8db": {
     "model_module": "@jupyter-widgets/controls",
     "model_module_version": "1.5.0",
     "model_name": "HTMLModel",
     "state": {
      "_dom_classes": [],
      "_model_module": "@jupyter-widgets/controls",
      "_model_module_version": "1.5.0",
      "_model_name": "HTMLModel",
      "_view_count": null,
      "_view_module": "@jupyter-widgets/controls",
      "_view_module_version": "1.5.0",
      "_view_name": "HTMLView",
      "description": "",
      "description_tooltip": null,
      "layout": "IPY_MODEL_a7ecf62a6d1d4deeae45e8214248940c",
      "placeholder": "​",
      "style": "IPY_MODEL_4e6df7f7d1fa484cba0f2a93aa9ff629",
      "value": "100%"
     }
    },
    "63ee16021f62418aa94b1afd83715d37": {
     "model_module": "@jupyter-widgets/controls",
     "model_module_version": "1.5.0",
     "model_name": "HTMLModel",
     "state": {
      "_dom_classes": [],
      "_model_module": "@jupyter-widgets/controls",
      "_model_module_version": "1.5.0",
      "_model_name": "HTMLModel",
      "_view_count": null,
      "_view_module": "@jupyter-widgets/controls",
      "_view_module_version": "1.5.0",
      "_view_name": "HTMLView",
      "description": "",
      "description_tooltip": null,
      "layout": "IPY_MODEL_48c4cd6c47f64e37b9ada031ff0d364f",
      "placeholder": "​",
      "style": "IPY_MODEL_d5653b192dd34554bcb60949dbae4280",
      "value": " 8091/8091 [1:11:19&lt;00:00,  1.96it/s]"
     }
    },
    "6a2b0dbc64674a8591ee468810d5311a": {
     "model_module": "@jupyter-widgets/controls",
     "model_module_version": "1.5.0",
     "model_name": "ProgressStyleModel",
     "state": {
      "_model_module": "@jupyter-widgets/controls",
      "_model_module_version": "1.5.0",
      "_model_name": "ProgressStyleModel",
      "_view_count": null,
      "_view_module": "@jupyter-widgets/base",
      "_view_module_version": "1.2.0",
      "_view_name": "StyleView",
      "bar_color": null,
      "description_width": ""
     }
    },
    "8df555d6eb744fb2821253a9c7629282": {
     "model_module": "@jupyter-widgets/controls",
     "model_module_version": "1.5.0",
     "model_name": "HBoxModel",
     "state": {
      "_dom_classes": [],
      "_model_module": "@jupyter-widgets/controls",
      "_model_module_version": "1.5.0",
      "_model_name": "HBoxModel",
      "_view_count": null,
      "_view_module": "@jupyter-widgets/controls",
      "_view_module_version": "1.5.0",
      "_view_name": "HBoxView",
      "box_style": "",
      "children": [
       "IPY_MODEL_62493709351d40668fcc344f53e6f8db",
       "IPY_MODEL_10143c597ad64366a817c7f6b2648122",
       "IPY_MODEL_63ee16021f62418aa94b1afd83715d37"
      ],
      "layout": "IPY_MODEL_55be3250d4264dbea1e6b71ff207ac0f"
     }
    },
    "a7ecf62a6d1d4deeae45e8214248940c": {
     "model_module": "@jupyter-widgets/base",
     "model_module_version": "1.2.0",
     "model_name": "LayoutModel",
     "state": {
      "_model_module": "@jupyter-widgets/base",
      "_model_module_version": "1.2.0",
      "_model_name": "LayoutModel",
      "_view_count": null,
      "_view_module": "@jupyter-widgets/base",
      "_view_module_version": "1.2.0",
      "_view_name": "LayoutView",
      "align_content": null,
      "align_items": null,
      "align_self": null,
      "border": null,
      "bottom": null,
      "display": null,
      "flex": null,
      "flex_flow": null,
      "grid_area": null,
      "grid_auto_columns": null,
      "grid_auto_flow": null,
      "grid_auto_rows": null,
      "grid_column": null,
      "grid_gap": null,
      "grid_row": null,
      "grid_template_areas": null,
      "grid_template_columns": null,
      "grid_template_rows": null,
      "height": null,
      "justify_content": null,
      "justify_items": null,
      "left": null,
      "margin": null,
      "max_height": null,
      "max_width": null,
      "min_height": null,
      "min_width": null,
      "object_fit": null,
      "object_position": null,
      "order": null,
      "overflow": null,
      "overflow_x": null,
      "overflow_y": null,
      "padding": null,
      "right": null,
      "top": null,
      "visibility": null,
      "width": null
     }
    },
    "c7242aad0eac4c6c8ac2e666e5c027a2": {
     "model_module": "@jupyter-widgets/base",
     "model_module_version": "1.2.0",
     "model_name": "LayoutModel",
     "state": {
      "_model_module": "@jupyter-widgets/base",
      "_model_module_version": "1.2.0",
      "_model_name": "LayoutModel",
      "_view_count": null,
      "_view_module": "@jupyter-widgets/base",
      "_view_module_version": "1.2.0",
      "_view_name": "LayoutView",
      "align_content": null,
      "align_items": null,
      "align_self": null,
      "border": null,
      "bottom": null,
      "display": null,
      "flex": null,
      "flex_flow": null,
      "grid_area": null,
      "grid_auto_columns": null,
      "grid_auto_flow": null,
      "grid_auto_rows": null,
      "grid_column": null,
      "grid_gap": null,
      "grid_row": null,
      "grid_template_areas": null,
      "grid_template_columns": null,
      "grid_template_rows": null,
      "height": null,
      "justify_content": null,
      "justify_items": null,
      "left": null,
      "margin": null,
      "max_height": null,
      "max_width": null,
      "min_height": null,
      "min_width": null,
      "object_fit": null,
      "object_position": null,
      "order": null,
      "overflow": null,
      "overflow_x": null,
      "overflow_y": null,
      "padding": null,
      "right": null,
      "top": null,
      "visibility": null,
      "width": null
     }
    },
    "d5653b192dd34554bcb60949dbae4280": {
     "model_module": "@jupyter-widgets/controls",
     "model_module_version": "1.5.0",
     "model_name": "DescriptionStyleModel",
     "state": {
      "_model_module": "@jupyter-widgets/controls",
      "_model_module_version": "1.5.0",
      "_model_name": "DescriptionStyleModel",
      "_view_count": null,
      "_view_module": "@jupyter-widgets/base",
      "_view_module_version": "1.2.0",
      "_view_name": "StyleView",
      "description_width": ""
     }
    },
    "e07a7085a0c54ae7b4c423ff96da2020": {
     "model_module": "@jupyter-widgets/base",
     "model_module_version": "1.2.0",
     "model_name": "LayoutModel",
     "state": {
      "_model_module": "@jupyter-widgets/base",
      "_model_module_version": "1.2.0",
      "_model_name": "LayoutModel",
      "_view_count": null,
      "_view_module": "@jupyter-widgets/base",
      "_view_module_version": "1.2.0",
      "_view_name": "LayoutView",
      "align_content": null,
      "align_items": null,
      "align_self": null,
      "border": null,
      "bottom": null,
      "display": null,
      "flex": null,
      "flex_flow": null,
      "grid_area": null,
      "grid_auto_columns": null,
      "grid_auto_flow": null,
      "grid_auto_rows": null,
      "grid_column": null,
      "grid_gap": null,
      "grid_row": null,
      "grid_template_areas": null,
      "grid_template_columns": null,
      "grid_template_rows": null,
      "height": null,
      "justify_content": null,
      "justify_items": null,
      "left": null,
      "margin": null,
      "max_height": null,
      "max_width": null,
      "min_height": null,
      "min_width": null,
      "object_fit": null,
      "object_position": null,
      "order": null,
      "overflow": null,
      "overflow_x": null,
      "overflow_y": null,
      "padding": null,
      "right": null,
      "top": null,
      "visibility": null,
      "width": "20px"
     }
    },
    "f5e3d81c4b9c4633a2eda2f41eb1f8b1": {
     "model_module": "@jupyter-widgets/controls",
     "model_module_version": "1.5.0",
     "model_name": "HTMLModel",
     "state": {
      "_dom_classes": [],
      "_model_module": "@jupyter-widgets/controls",
      "_model_module_version": "1.5.0",
      "_model_name": "HTMLModel",
      "_view_count": null,
      "_view_module": "@jupyter-widgets/controls",
      "_view_module_version": "1.5.0",
      "_view_name": "HTMLView",
      "description": "",
      "description_tooltip": null,
      "layout": "IPY_MODEL_0930767aadd94ad9844fe7d3495f39ca",
      "placeholder": "​",
      "style": "IPY_MODEL_1d2f8c4c0ebd475dabf61901f4372040",
      "value": " 0/? [00:01&lt;?, ?it/s]"
     }
    }
   }
  }
 },
 "nbformat": 4,
 "nbformat_minor": 4
}
